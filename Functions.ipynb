{
  "nbformat": 4,
  "nbformat_minor": 0,
  "metadata": {
    "colab": {
      "provenance": []
    },
    "kernelspec": {
      "name": "python3",
      "display_name": "Python 3"
    },
    "language_info": {
      "name": "python"
    }
  },
  "cells": [
    {
      "cell_type": "markdown",
      "source": [
        "1.Write a Python function that takes a list of numbers as input and returns the sum of all even numbers in the list."
      ],
      "metadata": {
        "id": "wMVYj18I68pK"
      }
    },
    {
      "cell_type": "code",
      "source": [
        "numbers = [1, 2, 3, 4, 5, 6, 7, 8]\n"
      ],
      "metadata": {
        "id": "z0L-2Hud8Rq1"
      },
      "execution_count": 2,
      "outputs": []
    },
    {
      "cell_type": "code",
      "source": [
        "def sum_of_even_numbers(numbers):\n",
        "    return sum(num for num in numbers if num % 2 == 0)\n",
        "result = sum_of_even_numbers(numbers)\n",
        "print(\"sum of even numbers:\", result)"
      ],
      "metadata": {
        "colab": {
          "base_uri": "https://localhost:8080/"
        },
        "id": "4l8HKc6k8iIU",
        "outputId": "f3b48700-e59e-4b0e-ce25-203923118449"
      },
      "execution_count": 4,
      "outputs": [
        {
          "output_type": "stream",
          "name": "stdout",
          "text": [
            "sum of even numbers: 20\n"
          ]
        }
      ]
    },
    {
      "cell_type": "code",
      "source": [],
      "metadata": {
        "id": "hzclTe6k9BOZ"
      },
      "execution_count": null,
      "outputs": []
    },
    {
      "cell_type": "markdown",
      "source": [
        "2.Create a Python function that accepts a string and returns the reverse of that string."
      ],
      "metadata": {
        "id": "ZMAyZTWf9WEV"
      }
    },
    {
      "cell_type": "code",
      "source": [
        "text = \"Hii Im Laxmi\""
      ],
      "metadata": {
        "id": "fyIXjfJZ9i_T"
      },
      "execution_count": 5,
      "outputs": []
    },
    {
      "cell_type": "code",
      "source": [
        "def reverse_string(s):\n",
        "    return s[::-1]\n",
        "reversed_text = reverse_string(text)\n",
        "print(\"Reversed string:\", reversed_text)"
      ],
      "metadata": {
        "colab": {
          "base_uri": "https://localhost:8080/"
        },
        "id": "_zKIu6wn-Au0",
        "outputId": "c19ca435-72fa-4fcb-a9c9-b13b92bb3c57"
      },
      "execution_count": 8,
      "outputs": [
        {
          "output_type": "stream",
          "name": "stdout",
          "text": [
            "Reversed string: imxaL mI iiH\n"
          ]
        }
      ]
    },
    {
      "cell_type": "markdown",
      "source": [
        "3.Implacement a Python function that takes a list of integers and returns a new list containing the square of each number."
      ],
      "metadata": {
        "id": "sIBAl8pa-j19"
      }
    },
    {
      "cell_type": "code",
      "source": [
        "nums = [1, 2, 3, 4, 5]"
      ],
      "metadata": {
        "id": "gh095ehZ--PX"
      },
      "execution_count": 9,
      "outputs": []
    },
    {
      "cell_type": "code",
      "source": [
        "def square_numbers(numbers):\n",
        "    return [num ** 2 for num in numbers]\n",
        "nums = [1, 2, 3, 4, 5]\n",
        "squared = square_numbers(nums)\n",
        "print(\"squared numbers:\", squared)"
      ],
      "metadata": {
        "colab": {
          "base_uri": "https://localhost:8080/"
        },
        "id": "0KcD73XZ_rdK",
        "outputId": "5c002589-072a-4900-ffb8-bba7a02bad1f"
      },
      "execution_count": 20,
      "outputs": [
        {
          "output_type": "stream",
          "name": "stdout",
          "text": [
            "squared numbers: [1, 4, 9, 16, 25]\n"
          ]
        }
      ]
    },
    {
      "cell_type": "markdown",
      "source": [
        "4.Write a Python function that checks if a given number is prime or not from 1 to 200."
      ],
      "metadata": {
        "id": "2S3IyzWWBDLe"
      }
    },
    {
      "cell_type": "code",
      "source": [
        "def is_prime_basic(n):\n",
        "    if n < 2 or n > 200:\n",
        "       return False\n",
        "    for i in range(2, n):\n",
        "        if n % i == 0:\n",
        "             return False\n",
        "    return True"
      ],
      "metadata": {
        "id": "8fBji_udCU0G"
      },
      "execution_count": 40,
      "outputs": []
    },
    {
      "cell_type": "markdown",
      "source": [
        "5.Create an iterator class in Python that generates the Fibonacci sequence up to a specified number of terms."
      ],
      "metadata": {
        "id": "gdZrAVV5ERNa"
      }
    },
    {
      "cell_type": "code",
      "source": [],
      "metadata": {
        "id": "e46YI6rOMgI4"
      },
      "execution_count": null,
      "outputs": []
    },
    {
      "cell_type": "markdown",
      "source": [
        "6.Write a generator function in Python that yields the powers of 2 up to a given exponent."
      ],
      "metadata": {
        "id": "DUz8DIhJMwgs"
      }
    },
    {
      "cell_type": "code",
      "source": [
        "def power_of_two(max_exponent):\n",
        "    for i in range(max_exponent + 1):\n",
        "      yield 2 ** i\n",
        "for num in power_of_two(5):\n",
        "   print(num)"
      ],
      "metadata": {
        "colab": {
          "base_uri": "https://localhost:8080/"
        },
        "id": "xat1myzbNGpj",
        "outputId": "c8e27c2e-9324-4d34-da5f-c2655ebfed72"
      },
      "execution_count": 43,
      "outputs": [
        {
          "output_type": "stream",
          "name": "stdout",
          "text": [
            "1\n",
            "2\n",
            "4\n",
            "8\n",
            "16\n",
            "32\n"
          ]
        }
      ]
    },
    {
      "cell_type": "markdown",
      "source": [
        "7.Implement a generator function that reads a file line by line and yields each line as a string."
      ],
      "metadata": {
        "id": "zYCMyctENlKL"
      }
    },
    {
      "cell_type": "code",
      "source": [
        "def read_file_lines(file_path):\n",
        "    with open(file_path, 'r') as file:\n",
        "      for line in file:\n",
        "        yield line.strip()"
      ],
      "metadata": {
        "id": "8qi3EhpCOBwh"
      },
      "execution_count": 44,
      "outputs": []
    },
    {
      "cell_type": "markdown",
      "source": [
        "8.Use a lambda function in Python to sort a list of tuples based on the second element of each tuples."
      ],
      "metadata": {
        "id": "aRrZaTloOWgB"
      }
    },
    {
      "cell_type": "code",
      "source": [
        "data = [(1, 3), (4, 1), (2, 5), (3, 2)]\n",
        "sorted_data = sorted(data, key=lambda x:x[1])\n",
        "print(sorted_data)"
      ],
      "metadata": {
        "colab": {
          "base_uri": "https://localhost:8080/"
        },
        "id": "XZ4Yl0J0OSl0",
        "outputId": "5173d247-0663-4435-c6c8-d2d645589732"
      },
      "execution_count": 45,
      "outputs": [
        {
          "output_type": "stream",
          "name": "stdout",
          "text": [
            "[(4, 1), (3, 2), (1, 3), (2, 5)]\n"
          ]
        }
      ]
    },
    {
      "cell_type": "markdown",
      "source": [
        "9.Write a Python program that uses 'map()' to convert a list of temperature from celsius to fahrenheit."
      ],
      "metadata": {
        "id": "rx9Z_OcIPWt_"
      }
    },
    {
      "cell_type": "code",
      "source": [
        "def celsius_to_fahrenheit(c):\n",
        "    return (c * 9/5) + 32\n",
        "\n",
        "celsius = [0, 20, 37, 100]\n",
        "fahrenheit = list(map(celsius_to_fahrenheit, celsius))\n",
        "print(fahrenheit)"
      ],
      "metadata": {
        "colab": {
          "base_uri": "https://localhost:8080/"
        },
        "id": "9TfM94LUPpTr",
        "outputId": "09fee005-6724-4599-b9a1-a6b8b90e6156"
      },
      "execution_count": 47,
      "outputs": [
        {
          "output_type": "stream",
          "name": "stdout",
          "text": [
            "[32.0, 68.0, 98.6, 212.0]\n"
          ]
        }
      ]
    },
    {
      "cell_type": "markdown",
      "source": [
        "10.Create a Python program that uses 'filter()' to remove all the vowels from a given string."
      ],
      "metadata": {
        "id": "IDMAgDMZQh3A"
      }
    },
    {
      "cell_type": "code",
      "source": [
        "text = \"Hello World\""
      ],
      "metadata": {
        "id": "hLaZeNhOQd0R"
      },
      "execution_count": 48,
      "outputs": []
    },
    {
      "cell_type": "code",
      "source": [
        "def remove_vowels(s):\n",
        "    vowels = 'aeiouAEIOU'\n",
        "    return ''.join(filter(lambda char:char not in vowels, s))\n",
        "result = remove_vowels(text)\n",
        "print(result)"
      ],
      "metadata": {
        "colab": {
          "base_uri": "https://localhost:8080/"
        },
        "id": "WS0FHHb5RvjS",
        "outputId": "00add2fe-b414-4373-e167-1244ff3248d1"
      },
      "execution_count": 49,
      "outputs": [
        {
          "output_type": "stream",
          "name": "stdout",
          "text": [
            "Hll Wrld\n"
          ]
        }
      ]
    },
    {
      "cell_type": "markdown",
      "source": [
        "11.Imagine an accountin routine used in a book shop. It works on a list with sublists, which look like thsi:\n",
        "\n",
        "\n",
        "*   oreder number\n",
        "      34587\n",
        "      98762\n",
        "      77226\n",
        "      88112\n",
        "\n",
        "*   Book Title and Author\n",
        "     Learning Python, Mark Lutz\n",
        "     Programming Python, Mark Lutz\n",
        "     Head First Python, Paul Barry\n",
        "     Einfuhrung in Python3, Bernd Klein\n",
        "\n",
        "\n",
        "\n",
        "*   Quantity\n",
        "      4\n",
        "      5\n",
        "      3\n",
        "      3\n",
        "\n",
        "*   Price per Item\n",
        "      40.95\n",
        "      56.80\n",
        "      32.95\n",
        "      24.99\n",
        "\n",
        " Write a Python program, which returns a list with 2-tuples consits of the order number and the product of the price per item and the quantity. The product should be increased by 10,-$ if the value of the order is smaller than 100,00 $.     \n",
        "\n",
        "\n",
        "\n"
      ],
      "metadata": {
        "id": "DPYFe3NNU5aj"
      }
    },
    {
      "cell_type": "code",
      "source": [
        "orders = [[34587, \"Learning Python, Mark Lutz\", 4, 40.95],\n",
        "          [98762, \"Programming Python, Mark Lutz\", 5, 56.80],\n",
        "          [77226, \"Head First Python, Paul Barry\", 3, 32.95],\n",
        "          [88112, \"Einfuhrung in Python3, Bernd Klein\", 3, 24.99]\n",
        "          ]\n",
        "\n",
        "def process_orders(order_list):\n",
        "      result = []\n",
        "      for order in order_list:\n",
        "        order_number = order [0]\n",
        "        quantity = order[2]\n",
        "        price_per_item = order[3]\n",
        "        total = quantity * price_per_item\n",
        "        if total < 100:\n",
        "          total += 10\n",
        "          result.append((order_number, round(total, 2)))\n",
        "          return result\n",
        "output = process_orders(orders)\n",
        "print(output)"
      ],
      "metadata": {
        "colab": {
          "base_uri": "https://localhost:8080/"
        },
        "id": "Dvhavq3_WbIO",
        "outputId": "c3941979-f7c3-4734-e313-9c236e3b7f92"
      },
      "execution_count": 57,
      "outputs": [
        {
          "output_type": "stream",
          "name": "stdout",
          "text": [
            "[(77226, 108.85)]\n"
          ]
        }
      ]
    },
    {
      "cell_type": "markdown",
      "source": [
        "12.Write a Python program using lambda and map."
      ],
      "metadata": {
        "id": "4xT3m8Vna47G"
      }
    },
    {
      "cell_type": "code",
      "source": [
        "processed_orders = list(map(lambda x: (x[0], round(x[2]*x[3] if x[2]*x[3] >= 100 else x[2]*x[3] + 10, 2)),\n",
        "                            orders\n",
        "                    ))\n",
        "print(processed_orders)"
      ],
      "metadata": {
        "colab": {
          "base_uri": "https://localhost:8080/"
        },
        "id": "BbPZYejyaAQ5",
        "outputId": "e73421f4-698a-4815-d8fe-7be7735377f9"
      },
      "execution_count": 58,
      "outputs": [
        {
          "output_type": "stream",
          "name": "stdout",
          "text": [
            "[(34587, 163.8), (98762, 284.0), (77226, 108.85), (88112, 84.97)]\n"
          ]
        }
      ]
    },
    {
      "cell_type": "code",
      "source": [],
      "metadata": {
        "id": "E9OH9CPVcBd9"
      },
      "execution_count": null,
      "outputs": []
    }
  ]
}